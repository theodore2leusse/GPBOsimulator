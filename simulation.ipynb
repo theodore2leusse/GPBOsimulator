{
 "cells": [
  {
   "cell_type": "markdown",
   "metadata": {},
   "source": [
    "## Import lib"
   ]
  },
  {
   "cell_type": "code",
   "execution_count": 1,
   "metadata": {},
   "outputs": [],
   "source": [
    "from DataSet import DataSet\n",
    "from SimGPBO import SimGPBO\n",
    "from PostProcessor import PostProcessor\n",
    "import GPy\n",
    "import numpy as np \n",
    "import matplotlib.pyplot as plt"
   ]
  },
  {
   "cell_type": "markdown",
   "metadata": {},
   "source": [
    "## Import data"
   ]
  },
  {
   "cell_type": "code",
   "execution_count": 2,
   "metadata": {},
   "outputs": [],
   "source": [
    "ds = DataSet('../data/','nhp','Cebus1_M1_190221.mat','first_GPBO_validResponses')\n",
    "ds.load_matlab_data() # load data from the dataset_file"
   ]
  },
  {
   "cell_type": "markdown",
   "metadata": {},
   "source": [
    "## Find hyperparameters "
   ]
  },
  {
   "cell_type": "code",
   "execution_count": null,
   "metadata": {},
   "outputs": [],
   "source": [
    "pp1 = PostProcessor('results/gpbo_NEI_first_GPBO_validResponses_300it.npz')\n",
    "pp1.load_data()"
   ]
  },
  {
   "cell_type": "code",
   "execution_count": null,
   "metadata": {},
   "outputs": [
    {
     "name": "stdout",
     "output_type": "stream",
     "text": [
      "(6, 10, 2, 300)\n",
      "(6, 2, 300)\n"
     ]
    }
   ],
   "source": [
    "print(pp1.P_test_x.shape)\n",
    "train_X = pp1.P_test_x[:,5]\n",
    "print(train_X.shape)"
   ]
  },
  {
   "cell_type": "code",
   "execution_count": null,
   "metadata": {},
   "outputs": [
    {
     "name": "stdout",
     "output_type": "stream",
     "text": [
      "(6, 10, 1, 300)\n",
      "(6, 1, 300)\n"
     ]
    }
   ],
   "source": [
    "print(pp1.P_test_y.shape)\n",
    "train_Y = pp1.P_test_y[:,5]\n",
    "print(train_Y.shape)"
   ]
  },
  {
   "cell_type": "code",
   "execution_count": null,
   "metadata": {},
   "outputs": [],
   "source": [
    "kernel = GPy.kern.Matern52(input_dim=2,variance=1.0, lengthscale=[1.0, 1.0], ARD=True, name='Mat52') "
   ]
  },
  {
   "cell_type": "code",
   "execution_count": null,
   "metadata": {},
   "outputs": [],
   "source": [
    "def optimize_gp_hyperparameters(kernel, train_X, train_Y, noise_min=1e-3, noise_max=5.0, max_iters=100):\n",
    "    \"\"\"\n",
    "    Optimise les hyperparamètres d'un modèle GP : longueur d'échelle, variance du noyau, variance du bruit.\n",
    "    \n",
    "    Args:\n",
    "        kernel (GPy.kern.Kern): Le noyau utilisé pour le GP (ex: RBF, Matérn, etc.).\n",
    "        train_X (np.ndarray): Les données d'entrée pour l'entraînement (n_samples, n_features).\n",
    "        train_Y (np.ndarray): Les données de sortie correspondantes (n_samples, 1).\n",
    "        noise_min (float): Borne inférieure pour la variance du bruit.\n",
    "        noise_max (float): Borne supérieure pour la variance du bruit.\n",
    "        max_iters (int): Nombre maximum d'itérations pour l'optimisation.\n",
    "    \n",
    "    Returns:\n",
    "        dict: Un dictionnaire contenant les hyperparamètres optimaux :\n",
    "              - 'lengthscales': Longueurs d'échelle du noyau\n",
    "              - 'variance': Variance du noyau\n",
    "              - 'noise_variance': Variance du bruit\n",
    "    \"\"\"\n",
    "    # Créer un modèle GPRegression\n",
    "    model = GPy.models.GPRegression(train_X, train_Y, kernel=kernel, normalizer=None)\n",
    "    \n",
    "    # Contraindre la variance du bruit dans une plage raisonnable\n",
    "    model.Gaussian_noise.constrain_bounded(noise_min, noise_max, warning=False)\n",
    "    \n",
    "    # Optimisation des hyperparamètres\n",
    "    model.optimize(optimizer='scg', max_iters=max_iters, messages=False)\n",
    "    \n",
    "    # Récupération des hyperparamètres optimaux\n",
    "    lengthscales = model.kern.lengthscale.values if hasattr(model.kern, 'lengthscale') else None\n",
    "    variance = model.kern.variance.values if hasattr(model.kern, 'variance') else None\n",
    "    noise_variance = model.Gaussian_noise.variance.values\n",
    "    \n",
    "    return {\n",
    "        \"lengthscales\": lengthscales,\n",
    "        \"variance\": variance,\n",
    "        \"noise_variance\": noise_variance\n",
    "    }"
   ]
  },
  {
   "cell_type": "code",
   "execution_count": null,
   "metadata": {},
   "outputs": [],
   "source": [
    "it = np.arange(100, 500+1, 100)\n",
    "lengthscales_exp = np.zeros((len(it),6,2))\n",
    "variance_exp = np.zeros((len(it),6))\n",
    "noise_variance_exp = np.zeros((len(it),6))\n",
    "\n",
    "for emg in range(6):\n",
    "    for i in range(len(it)):\n",
    "        dic=optimize_gp_hyperparameters(kernel=kernel, train_X=train_X[emg, :, :it[i]].T, train_Y=train_Y[emg, :, :it[i]].T, noise_min=1.e-5, noise_max=5, max_iters=100)\n",
    "        lengthscales_exp[i,emg,:] = dic[\"lengthscales\"]\n",
    "        variance_exp[i,emg] = dic[\"variance\"]\n",
    "        noise_variance_exp[i,emg] = dic[\"noise_variance\"]"
   ]
  },
  {
   "cell_type": "code",
   "execution_count": null,
   "metadata": {},
   "outputs": [],
   "source": [
    "lengthscale_1_exp = lengthscales_exp[:,:,0]\n",
    "lengthscale_2_exp = lengthscales_exp[:,:,1]\n",
    "lengthscale_1_exp_m = np.mean(lengthscale_1_exp, axis=1)\n",
    "lengthscale_2_exp_m = np.mean(lengthscale_2_exp, axis=1)\n",
    "variance_exp_m = np.mean(variance_exp, axis=1)\n",
    "noise_variance_exp_m = np.mean(noise_variance_exp, axis=1)"
   ]
  },
  {
   "cell_type": "code",
   "execution_count": null,
   "metadata": {},
   "outputs": [
    {
     "data": {
      "image/png": "[encoded data removed]",
      "text/plain": [
       "<Figure size 640x480 with 1 Axes>"
      ]
     },
     "metadata": {},
     "output_type": "display_data"
    },
    {
     "name": "stdout",
     "output_type": "stream",
     "text": [
      "lengthscales:  [0.17098939873531763, 0.24334464463909303] \n",
      "variance:  0.0004223094519695253 \n",
      "noise_variance:  0.00025126325878693426\n"
     ]
    }
   ],
   "source": [
    "plt.plot(it,lengthscale_1_exp_m, label='l1')\n",
    "plt.plot(it,lengthscale_2_exp_m, label='l2')\n",
    "plt.plot(it,variance_exp_m, label='v')\n",
    "plt.plot(it,noise_variance_exp_m, label='nv')\n",
    "plt.legend()\n",
    "plt.yscale('log')\n",
    "plt.show()\n",
    "\n",
    "hyp = {\n",
    "        \"lengthscales\": [lengthscale_1_exp_m[-1], lengthscale_2_exp_m[-1]],\n",
    "        \"variance\": variance_exp_m[-1],\n",
    "        \"noise_variance\": noise_variance_exp_m[-1]\n",
    "}\n",
    "\n",
    "print(\n",
    "        \"lengthscales: \", [lengthscale_1_exp_m[-1], lengthscale_2_exp_m[-1]],\n",
    "        \"\\nvariance: \", variance_exp_m[-1],\n",
    "        \"\\nnoise_variance: \", noise_variance_exp_m[-1]\n",
    ")"
   ]
  },
  {
   "cell_type": "markdown",
   "metadata": {},
   "source": [
    "Cebus 1 - 6 emgs - for 500 queries\n",
    "\n",
    "lengthscales:  [[0.152, 0.246], [0.172, 0.228], [0.140, 0.225], [0.174, 0.254], [0.180, 0.254], [0.171, 0.243]]\n",
    "\n",
    "variance:  [0.000355, 0.000405, 0.000392, 0.000395, 0.000368, 0.000422]\n",
    "\n",
    "noise_variance:  [0.000206, 0.000215, 0.000210, 0.000286, 0.000180, 0.000251] "
   ]
  },
  {
   "cell_type": "markdown",
   "metadata": {},
   "source": [
    "## Simulation "
   ]
  },
  {
   "cell_type": "code",
   "execution_count": 18,
   "metadata": {},
   "outputs": [],
   "source": [
    "sim_gpbo = SimGPBO(name = 'test_hyp', \n",
    "                    ds = ds,\n",
    "                    AF = 'NEI',\n",
    "                    NB_REP = 2,\n",
    "                    NB_IT = 100\n",
    "                    )"
   ]
  },
  {
   "cell_type": "code",
   "execution_count": 3,
   "metadata": {},
   "outputs": [],
   "source": [
    "# sim_gpbo.select_emgs([0,1])"
   ]
  },
  {
   "cell_type": "code",
   "execution_count": 5,
   "metadata": {},
   "outputs": [],
   "source": [
    "# sim_gpbo.set_custom_gp_hyperparameters(kernel_type='Mat52', noise_std=0.0002, output_std=0.0004, lengthscale=[0.16, 0.24])"
   ]
  },
  {
   "cell_type": "code",
   "execution_count": 19,
   "metadata": {},
   "outputs": [
    {
     "name": "stderr",
     "output_type": "stream",
     "text": [
      "Global Progress: 100%|██████████| 12/12 [03:49<00:00, 19.15s/iter]"
     ]
    },
    {
     "name": "stdout",
     "output_type": "stream",
     "text": [
      "Elapsed time: 229.8044228553772 seconds\n",
      "final save of test_hyp in:   results/gpbo_gpytorch_NEI_first_GPBO_validResponses_test_hyp.npz\n"
     ]
    },
    {
     "name": "stderr",
     "output_type": "stream",
     "text": [
      "\n"
     ]
    }
   ],
   "source": [
    "sim_gpbo.run_simulations(gp_origin='gpytorch', hyperparams_storage=True)"
   ]
  },
  {
   "cell_type": "code",
   "execution_count": 17,
   "metadata": {},
   "outputs": [
    {
     "data": {
      "text/plain": [
       "tensor([0.1500, 0.1500, 0.1500, 0.1500, 0.1500, 0.1500, 0.1500, 0.1500, 0.1500,\n",
       "        0.1500, 0.1500, 0.1500, 0.1500, 0.1500, 0.1500, 0.1500, 0.1500, 0.1500,\n",
       "        0.1500, 0.1500, 0.1500, 0.1500, 0.1500, 0.1500, 0.1500, 0.1500, 0.1500,\n",
       "        0.1500, 0.1500, 0.1500, 0.1500, 0.1500, 0.1500, 0.1500, 0.1500, 0.1500,\n",
       "        0.1500, 0.1500, 0.1500, 0.1500, 0.1500, 0.1500, 0.1500, 0.1500, 0.1500,\n",
       "        0.1500, 0.1500, 0.1500, 0.1500, 0.1500, 0.1500, 0.1500, 0.1500, 0.1500,\n",
       "        0.1500, 0.1500, 0.1500, 0.1500, 0.1500, 0.1500, 0.1500, 0.1500],\n",
       "       dtype=torch.float64)"
      ]
     },
     "execution_count": 17,
     "metadata": {},
     "output_type": "execute_result"
    }
   ],
   "source": [
    "sim_gpbo.gp.likelihood.noise"
   ]
  },
  {
   "cell_type": "code",
   "execution_count": 9,
   "metadata": {},
   "outputs": [
    {
     "data": {
      "text/plain": [
       "Parameter containing:\n",
       "tensor([[0.1267, 0.1225]], dtype=torch.float64, requires_grad=True)"
      ]
     },
     "execution_count": 9,
     "metadata": {},
     "output_type": "execute_result"
    }
   ],
   "source": [
    "sim_gpbo.gp.covar_module.lengthscale"
   ]
  },
  {
   "cell_type": "code",
   "execution_count": 8,
   "metadata": {},
   "outputs": [
    {
     "name": "stdout",
     "output_type": "stream",
     "text": [
      "RBFKernel(\n",
      "  (lengthscale_prior): LogNormalPrior()\n",
      "  (raw_lengthscale_constraint): GreaterThan(2.500E-02)\n",
      ")\n"
     ]
    }
   ],
   "source": [
    "print(sim_gpbo.gp.covar_module)"
   ]
  },
  {
   "cell_type": "code",
   "execution_count": 20,
   "metadata": {},
   "outputs": [
    {
     "name": "stdout",
     "output_type": "stream",
     "text": [
      "tensor([[[[0.3873, 0.3873, 0.3873,  ..., 0.3873, 0.3873, 0.3873]],\n",
      "\n",
      "         [[0.3873, 0.3873, 0.3873,  ..., 0.3873, 0.3873, 0.3873]]],\n",
      "\n",
      "\n",
      "        [[[0.3873, 0.3873, 0.3873,  ..., 0.3873, 0.3873, 0.3873]],\n",
      "\n",
      "         [[0.3873, 0.3873, 0.3873,  ..., 0.3873, 0.3873, 0.3873]]],\n",
      "\n",
      "\n",
      "        [[[0.3873, 0.3873, 0.3873,  ..., 0.3873, 0.3873, 0.3873]],\n",
      "\n",
      "         [[0.3873, 0.3873, 0.3873,  ..., 0.3873, 0.3873, 0.3873]]],\n",
      "\n",
      "\n",
      "        [[[0.3873, 0.3873, 0.3873,  ..., 0.3873, 0.3873, 0.3873]],\n",
      "\n",
      "         [[0.3873, 0.3873, 0.3873,  ..., 0.3873, 0.3873, 0.3873]]],\n",
      "\n",
      "\n",
      "        [[[0.3873, 0.3873, 0.3873,  ..., 0.3873, 0.3873, 0.3873]],\n",
      "\n",
      "         [[0.3873, 0.3873, 0.3873,  ..., 0.3873, 0.3873, 0.3873]]],\n",
      "\n",
      "\n",
      "        [[[0.3873, 0.3873, 0.3873,  ..., 0.3873, 0.3873, 0.3873]],\n",
      "\n",
      "         [[0.3873, 0.3873, 0.3873,  ..., 0.3873, 0.3873, 0.3873]]]],\n",
      "       dtype=torch.float64)\n"
     ]
    }
   ],
   "source": [
    "print(sim_gpbo.hyperparams_noise_std)"
   ]
  },
  {
   "cell_type": "code",
   "execution_count": 33,
   "metadata": {},
   "outputs": [
    {
     "name": "stdout",
     "output_type": "stream",
     "text": [
      "[0.38729833 0.38729833 0.38729833 0.38729833 0.38729833 0.38729833\n",
      " 0.38729833 0.38729833 0.38729833 0.38729833 0.38729833 0.38729833\n",
      " 0.38729833 0.38729833 0.38729833 0.38729833 0.38729833 0.38729833\n",
      " 0.38729833 0.38729833 0.38729833 0.38729833 0.38729833 0.38729833\n",
      " 0.38729833 0.38729833 0.38729833 0.38729833 0.38729833 0.38729833\n",
      " 0.38729833 0.38729833 0.38729833 0.38729833 0.38729833 0.38729833\n",
      " 0.38729833 0.38729833 0.38729833 0.38729833 0.38729833 0.38729833\n",
      " 0.38729833 0.38729833 0.38729833 0.38729833 0.38729833 0.38729833\n",
      " 0.38729833 0.38729833 0.38729833 0.38729833 0.38729833 0.38729833\n",
      " 0.38729833 0.38729833 0.38729833 0.38729833 0.38729833 0.38729833\n",
      " 0.38729833 0.38729833 0.38729833 0.38729833 0.38729833 0.38729833\n",
      " 0.38729833 0.38729833 0.38729833 0.38729833 0.38729833 0.38729833\n",
      " 0.38729833 0.38729833 0.38729833 0.38729833 0.38729833 0.38729833\n",
      " 0.38729833 0.38729833 0.38729833 0.38729833 0.38729833 0.38729833\n",
      " 0.38729833 0.38729833 0.38729833 0.38729833 0.38729833 0.38729833\n",
      " 0.38729833 0.38729833 0.38729833 0.38729833 0.38729833 0.38729833\n",
      " 0.38729833 0.38729833 0.38729833 0.38729833]\n"
     ]
    }
   ],
   "source": [
    "noise_std = np.mean(sim_gpbo.hyperparams_noise_std.numpy(), axis=(0,1,2))\n",
    "print(noise_std)"
   ]
  },
  {
   "cell_type": "code",
   "execution_count": 37,
   "metadata": {},
   "outputs": [
    {
     "data": {
      "image/png": "[encoded data removed]",
      "text/plain": [
       "<Figure size 640x480 with 1 Axes>"
      ]
     },
     "metadata": {},
     "output_type": "display_data"
    }
   ],
   "source": [
    "l1 = np.mean(sim_gpbo.hyperparams_l1.numpy(), axis=(0,1,2))\n",
    "l2 = np.mean(sim_gpbo.hyperparams_l2.numpy(), axis=(0,1,2))\n",
    "\n",
    "plt.plot(l1, label='lengthscale 1')\n",
    "plt.plot(l2, label='lengthscale 2')\n",
    "plt.legend()\n",
    "plt.show()"
   ]
  }
 ],
 "metadata": {
  "kernelspec": {
   "display_name": "mtl",
   "language": "python",
   "name": "python3"
  },
  "language_info": {
   "codemirror_mode": {
    "name": "ipython",
    "version": 3
   },
   "file_extension": ".py",
   "mimetype": "text/x-python",
   "name": "python",
   "nbconvert_exporter": "python",
   "pygments_lexer": "ipython3",
   "version": "3.12.4"
  }
 },
 "nbformat": 4,
 "nbformat_minor": 2
}
