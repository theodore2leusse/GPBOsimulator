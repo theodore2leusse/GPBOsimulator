{
 "cells": [
  {
   "cell_type": "markdown",
   "metadata": {},
   "source": [
    "## A) Import lib"
   ]
  },
  {
   "cell_type": "code",
   "execution_count": 1,
   "metadata": {},
   "outputs": [],
   "source": [
    "from DataSet import DataSet\n",
    "from SimGPBO_old import SimGPBO_old\n",
    "from SimGPBO import SimGPBO\n",
    "from PostProcessor import PostProcessor\n",
    "import GPy\n",
    "import numpy as np \n",
    "import matplotlib.pyplot as plt\n",
    "import copy \n",
    "import torch \n",
    "import gpytorch\n",
    "from GPcustom.models import GPytorchModel"
   ]
  },
  {
   "cell_type": "code",
   "execution_count": 2,
   "metadata": {},
   "outputs": [],
   "source": [
    "def plot_map(ds: DataSet, vector: np.array, title: str=None) -> None:\n",
    "    map = np.full((\n",
    "                        np.max(ds.set['ch2xy'][:,0]),\n",
    "                        np.max(ds.set['ch2xy'][:,1])\n",
    "                        ), \n",
    "                        np.nan)\n",
    "    for i in range(ds.set['ch2xy'].shape[0]):\n",
    "        map[int(ds.set['ch2xy'][i,0]-1),int(ds.set['ch2xy'][i,1]-1)] = vector[i]\n",
    "    plt.figure()\n",
    "    plt.imshow(map, cmap='viridis', vmin=np.nanmin(map), vmax=np.nanmax(map))\n",
    "    plt.colorbar(label=\"values\")\n",
    "    plt.title(title)\n",
    "    plt.show()\n"
   ]
  },
  {
   "cell_type": "markdown",
   "metadata": {},
   "source": [
    "## B) Import data"
   ]
  },
  {
   "cell_type": "code",
   "execution_count": 2,
   "metadata": {},
   "outputs": [],
   "source": [
    "ds = DataSet('../data/','nhp','Cebus1_M1_190221.mat','cebus1')\n",
    "ds.load_matlab_data() # load data from the dataset_file"
   ]
  },
  {
   "cell_type": "markdown",
   "metadata": {},
   "source": [
    "## C) Simulation "
   ]
  },
  {
   "cell_type": "markdown",
   "metadata": {},
   "source": [
    "### C.1) simulation \"OG\" with gpytorch"
   ]
  },
  {
   "cell_type": "code",
   "execution_count": 3,
   "metadata": {},
   "outputs": [
    {
     "name": "stderr",
     "output_type": "stream",
     "text": [
      "Global Progress: 100%|██████████| 1/1 [00:11<00:00, 11.85s/iter]"
     ]
    },
    {
     "name": "stdout",
     "output_type": "stream",
     "text": [
      "Elapsed time: 11.863202571868896 seconds\n",
      "final save of test_og in:   results/gpbo_gpytorch_UCB_cebus1_test_og.npz\n"
     ]
    },
    {
     "name": "stderr",
     "output_type": "stream",
     "text": [
      "\n"
     ]
    }
   ],
   "source": [
    "sim = SimGPBO(name = 'test_og_', \n",
    "                    ds = copy.deepcopy(ds),\n",
    "                    AF = 'UCB',\n",
    "                    NB_REP = 1,\n",
    "                    NB_IT = 10,\n",
    "                    KAPPA = 6,\n",
    "                    NB_RND = 1\n",
    "                    )\n",
    "\n",
    "sim.select_emgs([0])\n",
    "\n",
    "sim.run_simulations(gp_origin='gpytorch', response_type='valid', \n",
    "                         hyperparams_storage=True, HP_estimation=True, manual_seed=True, outputscale=1., noise=0.01)"
   ]
  },
  {
   "cell_type": "markdown",
   "metadata": {},
   "source": [
    "### C.2) simulation with gpytorch using QueriesInfo to predict (and to optimize the HPs)"
   ]
  },
  {
   "cell_type": "code",
   "execution_count": 3,
   "metadata": {},
   "outputs": [
    {
     "name": "stderr",
     "output_type": "stream",
     "text": [
      "Global Progress: 100%|██████████| 60/60 [17:12<00:00, 17.21s/iter]"
     ]
    },
    {
     "name": "stdout",
     "output_type": "stream",
     "text": [
      "Elapsed time: 1032.8427803516388 seconds\n",
      "final save of test_pseudo_gpy_ in:   results/gpbo_estimated_gpytorch_UCB_cebus1_test_pseudo_gpy_.npz\n"
     ]
    },
    {
     "name": "stderr",
     "output_type": "stream",
     "text": [
      "\n"
     ]
    }
   ],
   "source": [
    "sim = SimGPBO(name = 'test_pseudo_gpy_', \n",
    "                    ds = copy.deepcopy(ds),\n",
    "                    AF = 'UCB',\n",
    "                    NB_REP = 10,\n",
    "                    NB_IT = 200,\n",
    "                    KAPPA = 6,\n",
    "                    NB_RND = 1\n",
    "                    )\n",
    "\n",
    "# sim.select_emgs([0])\n",
    "\n",
    "sim.run_simulations(gp_origin='estimated_gpytorch', response_type='valid', \n",
    "                         hyperparams_storage=True, HP_estimation=False, manual_seed=True, \n",
    "                         outputscale=None, noise=None,\n",
    "                         max_iters_training_gp=10)"
   ]
  },
  {
   "cell_type": "markdown",
   "metadata": {},
   "source": [
    "### C.3) simulation with gpytorch using QueriesInfo to optimize the HPs"
   ]
  },
  {
   "cell_type": "code",
   "execution_count": 11,
   "metadata": {},
   "outputs": [
    {
     "name": "stderr",
     "output_type": "stream",
     "text": [
      "Global Progress: 100%|██████████| 1/1 [00:05<00:00,  5.64s/iter]"
     ]
    },
    {
     "name": "stdout",
     "output_type": "stream",
     "text": [
      "Elapsed time: 5.646507263183594 seconds\n",
      "final save of test_pseudo_hp in:   results/gpbo_estimated_hp_gpytorch_UCB_cebus1_test_pseudo_hp.npz\n"
     ]
    },
    {
     "name": "stderr",
     "output_type": "stream",
     "text": [
      "\n"
     ]
    }
   ],
   "source": [
    "sim = SimGPBO(name = 'test_pseudo_hp_', \n",
    "                    ds = copy.deepcopy(ds),\n",
    "                    AF = 'UCB',\n",
    "                    NB_REP = 1,\n",
    "                    NB_IT = 10,\n",
    "                    KAPPA = 6,\n",
    "                    NB_RND = 1\n",
    "                    )\n",
    "\n",
    "sim.select_emgs([0])\n",
    "\n",
    "sim.run_simulations(gp_origin='estimated_hp_gpytorch', response_type='valid', \n",
    "                         hyperparams_storage=True, HP_estimation=False, manual_seed=True, outputscale=1., noise=0.01)"
   ]
  }
 ],
 "metadata": {
  "kernelspec": {
   "display_name": "mtl",
   "language": "python",
   "name": "python3"
  },
  "language_info": {
   "codemirror_mode": {
    "name": "ipython",
    "version": 3
   },
   "file_extension": ".py",
   "mimetype": "text/x-python",
   "name": "python",
   "nbconvert_exporter": "python",
   "pygments_lexer": "ipython3",
   "version": "3.12.3"
  }
 },
 "nbformat": 4,
 "nbformat_minor": 2
}
