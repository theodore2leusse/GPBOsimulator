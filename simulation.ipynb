{
 "cells": [
  {
   "cell_type": "markdown",
   "metadata": {},
   "source": [
    "## Import lib"
   ]
  },
  {
   "cell_type": "code",
   "execution_count": 1,
   "metadata": {},
   "outputs": [],
   "source": [
    "from DataSet import DataSet\n",
    "from SimGPBO_old import SimGPBO_old\n",
    "from SimGPBO import SimGPBO\n",
    "from PostProcessor import PostProcessor\n",
    "import GPy\n",
    "import numpy as np \n",
    "import matplotlib.pyplot as plt\n",
    "import copy "
   ]
  },
  {
   "cell_type": "code",
   "execution_count": 2,
   "metadata": {},
   "outputs": [],
   "source": [
    "def plot_map(ds: DataSet, vector: np.array, title: str=None) -> None:\n",
    "    map = np.full((\n",
    "                        np.max(ds.set['ch2xy'][:,0]),\n",
    "                        np.max(ds.set['ch2xy'][:,1])\n",
    "                        ), \n",
    "                        np.nan)\n",
    "    for i in range(ds.set['ch2xy'].shape[0]):\n",
    "        map[int(ds.set['ch2xy'][i,0]-1),int(ds.set['ch2xy'][i,1]-1)] = vector[i]\n",
    "    plt.figure()\n",
    "    plt.imshow(map, cmap='viridis', vmin=np.nanmin(map), vmax=np.nanmax(map))\n",
    "    plt.colorbar(label=\"values\")\n",
    "    plt.title(title)\n",
    "    plt.show()\n"
   ]
  },
  {
   "cell_type": "markdown",
   "metadata": {},
   "source": [
    "## Import data"
   ]
  },
  {
   "cell_type": "code",
   "execution_count": 3,
   "metadata": {},
   "outputs": [],
   "source": [
    "ds = DataSet('../data/','nhp','Cebus1_M1_190221.mat','cebus1')\n",
    "ds.load_matlab_data() # load data from the dataset_file"
   ]
  },
  {
   "cell_type": "markdown",
   "metadata": {},
   "source": [
    "## Simulation "
   ]
  },
  {
   "cell_type": "code",
   "execution_count": 4,
   "metadata": {},
   "outputs": [
    {
     "name": "stderr",
     "output_type": "stream",
     "text": [
      "Global Progress: 100%|██████████| 1/1 [00:22<00:00, 22.07s/iter]"
     ]
    },
    {
     "name": "stdout",
     "output_type": "stream",
     "text": [
      "Elapsed time: 22.08238935470581 seconds\n",
      "final save of tttest_hyp_valid in:   results/gpbo_gpytorch_UCB_cebus1_tttest_hyp_valid.npz\n"
     ]
    },
    {
     "name": "stderr",
     "output_type": "stream",
     "text": [
      "\n"
     ]
    }
   ],
   "source": [
    "sim = SimGPBO(name = 'tttest_hyp_valid', \n",
    "                    ds = copy.deepcopy(ds),\n",
    "                    AF = 'UCB',\n",
    "                    NB_REP = 1,\n",
    "                    NB_IT = 40,\n",
    "                    KAPPA = 6,\n",
    "                    NB_RND = 1\n",
    "                    )\n",
    "\n",
    "sim.select_emgs([0])\n",
    "\n",
    "sim.run_simulations(gp_origin='gpytorch', response_type='valid', \n",
    "                         hyperparams_storage=True)"
   ]
  },
  {
   "cell_type": "code",
   "execution_count": 5,
   "metadata": {},
   "outputs": [],
   "source": [
    "mean = sim.gp.mean.detach().numpy()\n",
    "std = sim.gp.std.detach().numpy()\n",
    "best_f = np.max(sim.gp.mean[sim.best_pred_x_measured[0, 0, 0, 39].item()].numpy())"
   ]
  },
  {
   "cell_type": "code",
   "execution_count": 9,
   "metadata": {},
   "outputs": [],
   "source": [
    "map_emg = np.full((ds.set['sorted_respMean'].shape[1],\n",
    "                    np.max(ds.set['ch2xy'][:,0]),\n",
    "                    np.max(ds.set['ch2xy'][:,1])\n",
    "                    ), \n",
    "                    np.nan)\n",
    "for i in range(ds.set['ch2xy'].shape[0]):\n",
    "    map_emg[:,int(ds.set['ch2xy'][i,0]-1),int(ds.set['ch2xy'][i,1]-1)] = ds.set['sorted_respMean'][i,:]\n",
    "# print(map_emg)\n",
    "\n",
    "map_mean = np.full((\n",
    "                    np.max(ds.set['ch2xy'][:,0]),\n",
    "                    np.max(ds.set['ch2xy'][:,0])\n",
    "                    ), \n",
    "                    np.nan)\n",
    "for i in range(ds.set['ch2xy'].shape[0]):\n",
    "    map_mean[int(ds.set['ch2xy'][i,0]-1),int(ds.set['ch2xy'][i,1]-1)] = mean[i]\n",
    "# print(map_mean)\n",
    "\n",
    "plt.figure(figsize=(6, 6))\n",
    "plt.imshow(map_emg[3], cmap='viridis', vmin=np.nanmin(map_emg[3]), vmax=np.nanmax(map_emg[3]))\n",
    "plt.colorbar(label=\"values\")\n",
    "plt.title(\"title\")\n",
    "plt.show()\n",
    "\n",
    "plt.figure(figsize=(6, 6))\n",
    "plt.imshow(map_mean, cmap='viridis', vmin=np.nanmin(map_mean), vmax=np.nanmax(map_mean))\n",
    "plt.colorbar(label=\"values\")\n",
    "plt.title(\"title\")\n",
    "plt.show()"
   ]
  },
  {
   "cell_type": "code",
   "execution_count": 31,
   "metadata": {},
   "outputs": [
    {
     "name": "stdout",
     "output_type": "stream",
     "text": [
      "tensor([[[[61,  7, 88, 78, 89, 79, 88, 94, 87, 18,  1, 30, 47,  8, 77, 48, 37,\n",
      "           38, 14, 24, 28, 32, 43, 21, 22, 31, 11, 20, 42, 33, 34, 45, 64, 35,\n",
      "           83,  3, 40, 17, 56, 59]]]])\n",
      "tensor([[[[0.0024, 0.0022, 0.0029, 0.0022, 0.0024, 0.0021, 0.0025, 0.0064,\n",
      "           0.0033, 0.0091, 0.0034, 0.0179, 0.0022, 0.0145, 0.0024, 0.0040,\n",
      "           0.0028, 0.0043, 0.0060, 0.0099, 0.0102, 0.0324, 0.0132, 0.0372,\n",
      "           0.0199, 0.0199, 0.0186, 0.0114, 0.0094, 0.0383, 0.0347, 0.0142,\n",
      "           0.0021, 0.0167, 0.0022, 0.0044, 0.0130, 0.0048, 0.0031, 0.0073]]]],\n",
      "       dtype=torch.float64)\n"
     ]
    }
   ],
   "source": [
    "print(sim.P_test_x_idx)\n",
    "print(sim.P_test_y)"
   ]
  }
 ],
 "metadata": {
  "kernelspec": {
   "display_name": "mtl",
   "language": "python",
   "name": "python3"
  },
  "language_info": {
   "codemirror_mode": {
    "name": "ipython",
    "version": 3
   },
   "file_extension": ".py",
   "mimetype": "text/x-python",
   "name": "python",
   "nbconvert_exporter": "python",
   "pygments_lexer": "ipython3",
   "version": "3.12.3"
  }
 },
 "nbformat": 4,
 "nbformat_minor": 2
}
