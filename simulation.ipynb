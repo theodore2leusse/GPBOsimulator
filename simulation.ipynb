{
 "cells": [
  {
   "cell_type": "markdown",
   "metadata": {},
   "source": [
    "sciNeurotech Lab \n",
    "\n",
    "Theodore"
   ]
  },
  {
   "cell_type": "markdown",
   "metadata": {},
   "source": [
    "This notebook uses the `SimGPBO` class to set & run simulation"
   ]
  },
  {
   "cell_type": "markdown",
   "metadata": {},
   "source": [
    "## A) Import lib"
   ]
  },
  {
   "cell_type": "code",
   "execution_count": 1,
   "metadata": {},
   "outputs": [],
   "source": [
    "from DataSet import DataSet\n",
    "from SimGPBO import SimGPBO\n",
    "from PostProcessor import PostProcessor\n",
    "import GPy\n",
    "import numpy as np \n",
    "import matplotlib.pyplot as plt\n",
    "import copy \n",
    "import torch \n",
    "import gpytorch\n",
    "from GPcustom.models import GPytorchModel"
   ]
  },
  {
   "cell_type": "code",
   "execution_count": null,
   "metadata": {},
   "outputs": [],
   "source": [
    "def plot_map(ds: DataSet, vector: np.array, title: str=None) -> None:\n",
    "    map = np.full((\n",
    "                        np.max(ds.set['ch2xy'][:,0]),\n",
    "                        np.max(ds.set['ch2xy'][:,1])\n",
    "                        ), \n",
    "                        np.nan)\n",
    "    for i in range(ds.set['ch2xy'].shape[0]):\n",
    "        map[int(ds.set['ch2xy'][i,0]-1),int(ds.set['ch2xy'][i,1]-1)] = vector[i]\n",
    "\n",
    "    # Loop over each cell of the matrix to display the value in the center of the cell\n",
    "    for i in range(map.shape[0]):\n",
    "        for j in range(map.shape[1]):\n",
    "            plt.text(j, i, f\"{map[i, j]:.3g}\", ha='center', va='center', color=\"white\", fontsize=8)\n",
    "\n",
    "    plt.figure()\n",
    "    plt.imshow(map, cmap='viridis', vmin=np.nanmin(map), vmax=np.nanmax(map))\n",
    "    plt.colorbar(label=\"values\")\n",
    "    plt.title(title)\n",
    "    plt.show()\n"
   ]
  },
  {
   "cell_type": "code",
   "execution_count": 45,
   "metadata": {},
   "outputs": [],
   "source": [
    "def map_plot(my_map, title: str = 'map', figsize=(6, 6)):\n",
    "    \"\"\"\n",
    "    Plots a 2D map with color scale and values displayed at each cell.\n",
    "\n",
    "    This function visualizes a 2D matrix (`my_map`) using a color map, with the values of the \n",
    "    matrix displayed at each corresponding location. The color range is automatically scaled \n",
    "    to the minimum and maximum values of the matrix, and a color bar is included to indicate \n",
    "    the value scale. The function allows customization of the plot title.\n",
    "\n",
    "    Args:\n",
    "        my_map (numpy.ndarray): A 2D numpy array to be plotted.\n",
    "        title (str, optional): The title of the plot. Default is 'map'.\n",
    "\n",
    "    Returns:\n",
    "        None: The function displays the plot but does not return anything.\n",
    "    \n",
    "    Example:\n",
    "        map_plot(np.array([[1, 2], [3, 4]]), 'Sample Map')\n",
    "    \"\"\"\n",
    "    # Set up the figure with a fixed size\n",
    "    # plt.figure(figsize=figsize)\n",
    "    \n",
    "    # Display the map using a color map and scale it according to the minimum and maximum values\n",
    "    plt.imshow(my_map, cmap='coolwarm', vmin=np.nanmin(my_map), vmax=np.nanmax(my_map))\n",
    "    \n",
    "    # Add a color bar to indicate the value scale\n",
    "    plt.colorbar(label=\"values\")\n",
    "    \n",
    "    # Set the title of the plot\n",
    "    plt.title(title)\n",
    "\n",
    "    # # Loop over each cell of the matrix to display the value in the center of the cell\n",
    "    # for i in range(my_map.shape[0]):\n",
    "    #     for j in range(my_map.shape[1]):\n",
    "    #         plt.text(j, i, f\"{my_map[i, j]:.3g}\", ha='center', va='center', color=\"white\", fontsize=8)\n",
    "\n",
    "    # Show the plot\n",
    "    plt.show()"
   ]
  },
  {
   "cell_type": "markdown",
   "metadata": {},
   "source": [
    "## B) Import data"
   ]
  },
  {
   "cell_type": "code",
   "execution_count": 2,
   "metadata": {},
   "outputs": [],
   "source": [
    "ds = DataSet('../data/','nhp','Cebus1_M1_190221.mat','cebus1')\n",
    "ds.load_matlab_data() # load data from the dataset_file"
   ]
  },
  {
   "cell_type": "markdown",
   "metadata": {},
   "source": [
    "## C) Simulation "
   ]
  },
  {
   "cell_type": "markdown",
   "metadata": {},
   "source": [
    "### C.1) simulation \"OG\" with gpytorch"
   ]
  },
  {
   "cell_type": "code",
   "execution_count": null,
   "metadata": {},
   "outputs": [
    {
     "name": "stderr",
     "output_type": "stream",
     "text": [
      "Global Progress:   0%|          | 0/1 [00:00<?, ?iter/s]"
     ]
    },
    {
     "name": "stderr",
     "output_type": "stream",
     "text": [
      "Global Progress: 100%|██████████| 1/1 [00:16<00:00, 16.65s/iter]"
     ]
    },
    {
     "name": "stdout",
     "output_type": "stream",
     "text": [
      "Elapsed time: 16.656370639801025 seconds\n",
      "final save of ttest_og_ in:   results/gpbo_gpytorch_UCB_cebus1_ttest_og_.npz\n"
     ]
    },
    {
     "name": "stderr",
     "output_type": "stream",
     "text": [
      "\n"
     ]
    }
   ],
   "source": [
    "sim = SimGPBO(name = 'ttest_og_', \n",
    "                    ds = copy.deepcopy(ds),\n",
    "                    AF = 'UCB',\n",
    "                    NB_REP = 1,\n",
    "                    NB_IT = 15,\n",
    "                    KAPPA = 6,\n",
    "                    NB_RND = 1\n",
    "                    )\n",
    "\n",
    "# sim.select_emgs([0])\n",
    "\n",
    "sim.run_simulations(gp_origin='gpytorch', response_type='valid', \n",
    "                         hyperparams_storage=True, HP_estimation=True, manual_seed=True, outputscale=1., noise=0.01)"
   ]
  },
  {
   "cell_type": "markdown",
   "metadata": {},
   "source": [
    "### C.2) simulation with gpytorch using QueriesInfo to predict (and to optimize the HPs)"
   ]
  },
  {
   "cell_type": "code",
   "execution_count": null,
   "metadata": {},
   "outputs": [
    {
     "name": "stderr",
     "output_type": "stream",
     "text": [
      "Global Progress: 100%|██████████| 1/1 [00:05<00:00,  5.30s/iter]"
     ]
    },
    {
     "name": "stdout",
     "output_type": "stream",
     "text": [
      "Elapsed time: 5.30698561668396 seconds\n",
      "final save of ttest_pseudo_gpy_ in:   results/gpbo_estimated_gpytorch_UCB_cebus1_ttest_pseudo_gpy_.npz\n"
     ]
    },
    {
     "name": "stderr",
     "output_type": "stream",
     "text": [
      "\n"
     ]
    }
   ],
   "source": [
    "sim = SimGPBO(name = 'ttest_pseudo_gpy_', \n",
    "                    ds = copy.deepcopy(ds),\n",
    "                    AF = 'UCB',\n",
    "                    NB_REP = 1,\n",
    "                    NB_IT = 15,\n",
    "                    KAPPA = 6,\n",
    "                    NB_RND = 1\n",
    "                    )\n",
    "\n",
    "# sim.select_emgs([0])\n",
    "\n",
    "sim.run_simulations(gp_origin='estimated_gpytorch', response_type='valid', \n",
    "                         hyperparams_storage=True, HP_estimation=False, manual_seed=True, \n",
    "                         outputscale=None, noise=None,\n",
    "                         max_iters_training_gp=10)"
   ]
  },
  {
   "cell_type": "markdown",
   "metadata": {},
   "source": [
    "### C.3) simulation with gpytorch using QueriesInfo to optimize the HPs"
   ]
  },
  {
   "cell_type": "code",
   "execution_count": null,
   "metadata": {},
   "outputs": [
    {
     "name": "stderr",
     "output_type": "stream",
     "text": [
      "Global Progress: 100%|██████████| 1/1 [00:07<00:00,  7.68s/iter]"
     ]
    },
    {
     "name": "stdout",
     "output_type": "stream",
     "text": [
      "Elapsed time: 7.680302381515503 seconds\n",
      "final save of ttest_pseudo_hp_ in:   results/gpbo_estimated_hp_gpytorch_UCB_cebus1_ttest_pseudo_hp_.npz\n"
     ]
    },
    {
     "name": "stderr",
     "output_type": "stream",
     "text": [
      "\n"
     ]
    }
   ],
   "source": [
    "sim = SimGPBO(name = 'ttest_pseudo_hp_', \n",
    "                    ds = copy.deepcopy(ds),\n",
    "                    AF = 'UCB',\n",
    "                    NB_REP = 1,\n",
    "                    NB_IT = 15,\n",
    "                    KAPPA = 6,\n",
    "                    NB_RND = 1\n",
    "                    )\n",
    "\n",
    "# sim.select_emgs([0])\n",
    "\n",
    "sim.run_simulations(gp_origin='estimated_hp_gpytorch', response_type='valid', \n",
    "                         hyperparams_storage=True, HP_estimation=False, manual_seed=True, outputscale=1., noise=0.01)"
   ]
  },
  {
   "cell_type": "markdown",
   "metadata": {},
   "source": [
    "### C.4) simulation with NN"
   ]
  },
  {
   "cell_type": "code",
   "execution_count": null,
   "metadata": {},
   "outputs": [
    {
     "name": "stderr",
     "output_type": "stream",
     "text": [
      "Global Progress: 100%|██████████| 120/120 [21:24<00:00, 10.71s/iter]"
     ]
    },
    {
     "name": "stdout",
     "output_type": "stream",
     "text": [
      "Elapsed time: 1284.895881652832 seconds\n",
      "final save of ttest_NN_KAPPA6_valid in:   results/gpbo_NN_UCB_cebus1_ttest_NN_KAPPA6_valid.npz\n"
     ]
    },
    {
     "name": "stderr",
     "output_type": "stream",
     "text": [
      "\n"
     ]
    }
   ],
   "source": [
    "sim = SimGPBO(name = 'ttest_NN_KAPPA6_valid', \n",
    "                    ds = copy.deepcopy(ds),\n",
    "                    AF = 'UCB',\n",
    "                    NB_REP = 20,\n",
    "                    NB_IT = 200,\n",
    "                    KAPPA = 6,\n",
    "                    NB_RND = 1\n",
    "                    )\n",
    "\n",
    "# sim.select_emgs([0])\n",
    "\n",
    "sim.run_simulations(gp_origin='NN', response_type='valid', manual_seed=True)"
   ]
  },
  {
   "cell_type": "markdown",
   "metadata": {},
   "source": [
    "### C.5) simulation with a GP with same HPs than the HPs we use for the training of the NN"
   ]
  },
  {
   "cell_type": "code",
   "execution_count": 3,
   "metadata": {},
   "outputs": [
    {
     "name": "stderr",
     "output_type": "stream",
     "text": [
      "Global Progress:   0%|          | 0/120 [00:00<?, ?iter/s]"
     ]
    },
    {
     "name": "stderr",
     "output_type": "stream",
     "text": [
      "Global Progress: 100%|██████████| 120/120 [05:03<00:00,  2.53s/iter]"
     ]
    },
    {
     "name": "stdout",
     "output_type": "stream",
     "text": [
      "Elapsed time: 303.7192552089691 seconds\n",
      "final save of ttest_GPsameHPthanNN_KAPPA10_valid in:   results/gpbo_gpytorch_UCB_cebus1_ttest_GPsameHPthanNN_KAPPA10_valid.npz\n"
     ]
    },
    {
     "name": "stderr",
     "output_type": "stream",
     "text": [
      "\n"
     ]
    }
   ],
   "source": [
    "sim = SimGPBO(name = 'ttest_GPsameHPthanNN_KAPPA10_valid', \n",
    "                    ds = copy.deepcopy(ds),\n",
    "                    AF = 'UCB',\n",
    "                    NB_REP = 20,\n",
    "                    NB_IT = 200,\n",
    "                    KAPPA = 10,\n",
    "                    NB_RND = 1\n",
    "                    )\n",
    "\n",
    "# sim.select_emgs([0])\n",
    "\n",
    "sim.run_simulations(gp_origin='gpytorch', response_type='valid', manual_seed=True, outputscale=1., noise=0.05, lengthscale=[0.3,0.3])"
   ]
  }
 ],
 "metadata": {
  "kernelspec": {
   "display_name": "mtl",
   "language": "python",
   "name": "python3"
  },
  "language_info": {
   "codemirror_mode": {
    "name": "ipython",
    "version": 3
   },
   "file_extension": ".py",
   "mimetype": "text/x-python",
   "name": "python",
   "nbconvert_exporter": "python",
   "pygments_lexer": "ipython3",
   "version": "3.12.3"
  }
 },
 "nbformat": 4,
 "nbformat_minor": 2
}
