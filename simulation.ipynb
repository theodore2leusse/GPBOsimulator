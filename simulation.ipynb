{
 "cells": [
  {
   "cell_type": "markdown",
   "metadata": {},
   "source": [
    "## Import lib"
   ]
  },
  {
   "cell_type": "code",
   "execution_count": 1,
   "metadata": {},
   "outputs": [
    {
     "name": "stderr",
     "output_type": "stream",
     "text": [
      "c:\\Users\\deleu\\miniconda3\\envs\\mtl\\Lib\\site-packages\\tqdm\\auto.py:21: TqdmWarning: IProgress not found. Please update jupyter and ipywidgets. See https://ipywidgets.readthedocs.io/en/stable/user_install.html\n",
      "  from .autonotebook import tqdm as notebook_tqdm\n"
     ]
    }
   ],
   "source": [
    "from DataSet import DataSet\n",
    "from SimGPBO import SimGPBO\n",
    "from PostProcessor import PostProcessor\n",
    "import GPy\n",
    "import numpy as np \n",
    "import matplotlib.pyplot as plt"
   ]
  },
  {
   "cell_type": "markdown",
   "metadata": {},
   "source": [
    "## Import data"
   ]
  },
  {
   "cell_type": "code",
   "execution_count": 2,
   "metadata": {},
   "outputs": [],
   "source": [
    "ds = DataSet('data/','nhp','Cebus1_M1_190221.mat','first_GPBO_validResponses')\n",
    "ds.load_matlab_data() # load data from the dataset_file"
   ]
  },
  {
   "cell_type": "markdown",
   "metadata": {},
   "source": [
    "## Find hyperparameters "
   ]
  },
  {
   "cell_type": "code",
   "execution_count": 3,
   "metadata": {},
   "outputs": [],
   "source": [
    "pp1 = PostProcessor('results/gpbo_NEI_first_GPBO_validResponses_300it.npz')\n",
    "pp1.load_data()"
   ]
  },
  {
   "cell_type": "code",
   "execution_count": 4,
   "metadata": {},
   "outputs": [
    {
     "name": "stdout",
     "output_type": "stream",
     "text": [
      "(6, 10, 2, 300)\n",
      "(6, 2, 300)\n"
     ]
    }
   ],
   "source": [
    "print(pp1.P_test_x.shape)\n",
    "train_X = pp1.P_test_x[:,0]\n",
    "print(train_X.shape)"
   ]
  },
  {
   "cell_type": "code",
   "execution_count": 5,
   "metadata": {},
   "outputs": [
    {
     "name": "stdout",
     "output_type": "stream",
     "text": [
      "(6, 10, 1, 300)\n",
      "(6, 1, 300)\n"
     ]
    }
   ],
   "source": [
    "print(pp1.P_test_y.shape)\n",
    "train_Y = pp1.P_test_y[:,0]\n",
    "print(train_Y.shape)"
   ]
  },
  {
   "cell_type": "code",
   "execution_count": 6,
   "metadata": {},
   "outputs": [],
   "source": [
    "kernel = GPy.kern.Matern52(input_dim=2,variance=1.0, lengthscale=[1.0, 1.0], ARD=True, name='Mat52') "
   ]
  },
  {
   "cell_type": "code",
   "execution_count": 7,
   "metadata": {},
   "outputs": [],
   "source": [
    "def optimize_gp_hyperparameters(kernel, train_X, train_Y, noise_min=1e-3, noise_max=5.0, max_iters=100):\n",
    "    \"\"\"\n",
    "    Optimise les hyperparamètres d'un modèle GP : longueur d'échelle, variance du noyau, variance du bruit.\n",
    "    \n",
    "    Args:\n",
    "        kernel (GPy.kern.Kern): Le noyau utilisé pour le GP (ex: RBF, Matérn, etc.).\n",
    "        train_X (np.ndarray): Les données d'entrée pour l'entraînement (n_samples, n_features).\n",
    "        train_Y (np.ndarray): Les données de sortie correspondantes (n_samples, 1).\n",
    "        noise_min (float): Borne inférieure pour la variance du bruit.\n",
    "        noise_max (float): Borne supérieure pour la variance du bruit.\n",
    "        max_iters (int): Nombre maximum d'itérations pour l'optimisation.\n",
    "    \n",
    "    Returns:\n",
    "        dict: Un dictionnaire contenant les hyperparamètres optimaux :\n",
    "              - 'lengthscales': Longueurs d'échelle du noyau\n",
    "              - 'variance': Variance du noyau\n",
    "              - 'noise_variance': Variance du bruit\n",
    "    \"\"\"\n",
    "    # Créer un modèle GPRegression\n",
    "    model = GPy.models.GPRegression(train_X, train_Y, kernel=kernel, normalizer=None)\n",
    "    \n",
    "    # Contraindre la variance du bruit dans une plage raisonnable\n",
    "    model.Gaussian_noise.constrain_bounded(noise_min, noise_max, warning=False)\n",
    "    \n",
    "    # Optimisation des hyperparamètres\n",
    "    model.optimize(optimizer='scg', max_iters=max_iters, messages=False)\n",
    "    \n",
    "    # Récupération des hyperparamètres optimaux\n",
    "    lengthscales = model.kern.lengthscale.values if hasattr(model.kern, 'lengthscale') else None\n",
    "    variance = model.kern.variance.values if hasattr(model.kern, 'variance') else None\n",
    "    noise_variance = model.Gaussian_noise.variance.values\n",
    "    \n",
    "    return {\n",
    "        \"lengthscales\": lengthscales,\n",
    "        \"variance\": variance,\n",
    "        \"noise_variance\": noise_variance\n",
    "    }"
   ]
  },
  {
   "cell_type": "code",
   "execution_count": 8,
   "metadata": {},
   "outputs": [],
   "source": [
    "it = np.arange(100, 500+1, 100)\n",
    "lengthscales_exp = np.zeros((len(it),6,2))\n",
    "variance_exp = np.zeros((len(it),6))\n",
    "noise_variance_exp = np.zeros((len(it),6))\n",
    "\n",
    "for emg in range(6):\n",
    "    for i in range(len(it)):\n",
    "        dic=optimize_gp_hyperparameters(kernel=kernel, train_X=train_X[emg, :, :it[i]].T, train_Y=train_Y[emg, :, :it[i]].T, noise_min=1.e-5, noise_max=5, max_iters=100)\n",
    "        lengthscales_exp[i,emg,:] = dic[\"lengthscales\"]\n",
    "        variance_exp[i,emg] = dic[\"variance\"]\n",
    "        noise_variance_exp[i,emg] = dic[\"noise_variance\"]"
   ]
  },
  {
   "cell_type": "code",
   "execution_count": 9,
   "metadata": {},
   "outputs": [],
   "source": [
    "lengthscale_1_exp = lengthscales_exp[:,:,0]\n",
    "lengthscale_2_exp = lengthscales_exp[:,:,1]\n",
    "lengthscale_1_exp_m = np.mean(lengthscale_1_exp, axis=1)\n",
    "lengthscale_2_exp_m = np.mean(lengthscale_2_exp, axis=1)\n",
    "variance_exp_m = np.mean(variance_exp, axis=1)\n",
    "noise_variance_exp_m = np.mean(noise_variance_exp, axis=1)"
   ]
  },
  {
   "cell_type": "code",
   "execution_count": 10,
   "metadata": {},
   "outputs": [
    {
     "data": {
      "image/png": "[encoded data removed]",
      "text/plain": [
       "<Figure size 640x480 with 1 Axes>"
      ]
     },
     "metadata": {},
     "output_type": "display_data"
    },
    {
     "name": "stdout",
     "output_type": "stream",
     "text": [
      "lengthscales:  [0.1516837194453705, 0.2468538010996296] \n",
      "variance:  0.0003547026290338991 \n",
      "noise_variance:  0.00020355777116804128\n"
     ]
    }
   ],
   "source": [
    "plt.plot(it,lengthscale_1_exp_m, label='l1')\n",
    "plt.plot(it,lengthscale_2_exp_m, label='l2')\n",
    "plt.plot(it,variance_exp_m, label='v')\n",
    "plt.plot(it,noise_variance_exp_m, label='nv')\n",
    "plt.legend()\n",
    "plt.yscale('log')\n",
    "plt.show()\n",
    "\n",
    "hyp = {\n",
    "        \"lengthscales\": [lengthscale_1_exp_m[-1], lengthscale_2_exp_m[-1]],\n",
    "        \"variance\": variance_exp_m[-1],\n",
    "        \"noise_variance\": noise_variance_exp_m[-1]\n",
    "}\n",
    "\n",
    "print(\n",
    "        \"lengthscales: \", [lengthscale_1_exp_m[-1], lengthscale_2_exp_m[-1]],\n",
    "        \"\\nvariance: \", variance_exp_m[-1],\n",
    "        \"\\nnoise_variance: \", noise_variance_exp_m[-1]\n",
    ")"
   ]
  },
  {
   "cell_type": "markdown",
   "metadata": {},
   "source": [
    "## Simulation "
   ]
  },
  {
   "cell_type": "code",
   "execution_count": 19,
   "metadata": {},
   "outputs": [],
   "source": [
    "sim_gpbo = SimGPBO(name = 'hyp_exp', \n",
    "                    ds = ds,\n",
    "                    AF = 'UCB',\n",
    "                    NB_REP = 2,\n",
    "                    NB_IT = 1000,\n",
    "                    KAPPA = 4\n",
    "                    )"
   ]
  },
  {
   "cell_type": "code",
   "execution_count": 20,
   "metadata": {},
   "outputs": [],
   "source": [
    "sim_gpbo.select_emgs([0,1])"
   ]
  },
  {
   "cell_type": "code",
   "execution_count": 21,
   "metadata": {},
   "outputs": [],
   "source": [
    "sim_gpbo.set_custom_gp_hyperparameters(kernel_type='Mat52', noise_std=hyp[\"noise_variance\"], output_std=hyp[\"variance\"], lengthscale=hyp[\"lengthscales\"])"
   ]
  },
  {
   "cell_type": "code",
   "execution_count": 22,
   "metadata": {},
   "outputs": [
    {
     "name": "stderr",
     "output_type": "stream",
     "text": [
      "Global Progress: 100%|██████████| 4/4 [00:33<00:00,  8.26s/iter]"
     ]
    },
    {
     "name": "stdout",
     "output_type": "stream",
     "text": [
      "Elapsed time: 33.054970502853394 seconds\n",
      "final save of hyp_exp in:   results/gpbo_custom_FixedOnlineGP_UCB_first_GPBO_validResponses_hyp_exp\n"
     ]
    },
    {
     "name": "stderr",
     "output_type": "stream",
     "text": [
      "\n"
     ]
    }
   ],
   "source": [
    "sim_gpbo.run_simulations(gp_origin = 'custom_FixedOnlineGP', mean_and_std_storage = True)"
   ]
  }
 ],
 "metadata": {
  "kernelspec": {
   "display_name": "mtl",
   "language": "python",
   "name": "python3"
  },
  "language_info": {
   "codemirror_mode": {
    "name": "ipython",
    "version": 3
   },
   "file_extension": ".py",
   "mimetype": "text/x-python",
   "name": "python",
   "nbconvert_exporter": "python",
   "pygments_lexer": "ipython3",
   "version": "3.12.4"
  }
 },
 "nbformat": 4,
 "nbformat_minor": 2
}
