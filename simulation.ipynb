{
 "cells": [
  {
   "cell_type": "markdown",
   "metadata": {},
   "source": [
    "## Import lib"
   ]
  },
  {
   "cell_type": "code",
   "execution_count": 1,
   "metadata": {},
   "outputs": [],
   "source": [
    "from DataSet import DataSet\n",
    "from SimGPBO_old import SimGPBO_old\n",
    "from SimGPBO import SimGPBO\n",
    "from PostProcessor import PostProcessor\n",
    "import GPy\n",
    "import numpy as np \n",
    "import matplotlib.pyplot as plt\n",
    "import copy \n",
    "import torch \n",
    "import gpytorch\n",
    "from GPcustom.models import GPytorchModel"
   ]
  },
  {
   "cell_type": "code",
   "execution_count": 2,
   "metadata": {},
   "outputs": [],
   "source": [
    "def plot_map(ds: DataSet, vector: np.array, title: str=None) -> None:\n",
    "    map = np.full((\n",
    "                        np.max(ds.set['ch2xy'][:,0]),\n",
    "                        np.max(ds.set['ch2xy'][:,1])\n",
    "                        ), \n",
    "                        np.nan)\n",
    "    for i in range(ds.set['ch2xy'].shape[0]):\n",
    "        map[int(ds.set['ch2xy'][i,0]-1),int(ds.set['ch2xy'][i,1]-1)] = vector[i]\n",
    "    plt.figure()\n",
    "    plt.imshow(map, cmap='viridis', vmin=np.nanmin(map), vmax=np.nanmax(map))\n",
    "    plt.colorbar(label=\"values\")\n",
    "    plt.title(title)\n",
    "    plt.show()\n"
   ]
  },
  {
   "cell_type": "markdown",
   "metadata": {},
   "source": [
    "## Import data"
   ]
  },
  {
   "cell_type": "code",
   "execution_count": 4,
   "metadata": {},
   "outputs": [],
   "source": [
    "ds = DataSet('../data/','nhp','Cebus1_M1_190221.mat','cebus1')\n",
    "ds.load_matlab_data() # load data from the dataset_file"
   ]
  },
  {
   "cell_type": "markdown",
   "metadata": {},
   "source": [
    "## Simulation "
   ]
  },
  {
   "cell_type": "code",
   "execution_count": 3,
   "metadata": {},
   "outputs": [
    {
     "name": "stderr",
     "output_type": "stream",
     "text": [
      "Global Progress: 100%|██████████| 1/1 [00:11<00:00, 11.85s/iter]"
     ]
    },
    {
     "name": "stdout",
     "output_type": "stream",
     "text": [
      "Elapsed time: 11.863202571868896 seconds\n",
      "final save of test_og in:   results/gpbo_gpytorch_UCB_cebus1_test_og.npz\n"
     ]
    },
    {
     "name": "stderr",
     "output_type": "stream",
     "text": [
      "\n"
     ]
    }
   ],
   "source": [
    "sim = SimGPBO(name = 'test_og_', \n",
    "                    ds = copy.deepcopy(ds),\n",
    "                    AF = 'UCB',\n",
    "                    NB_REP = 1,\n",
    "                    NB_IT = 10,\n",
    "                    KAPPA = 6,\n",
    "                    NB_RND = 1\n",
    "                    )\n",
    "\n",
    "sim.select_emgs([0])\n",
    "\n",
    "sim.run_simulations(gp_origin='gpytorch', response_type='valid', \n",
    "                         hyperparams_storage=True, HP_estimation=True, manual_seed=True, outputscale=1., noise=0.01)"
   ]
  },
  {
   "cell_type": "code",
   "execution_count": 12,
   "metadata": {},
   "outputs": [
    {
     "name": "stderr",
     "output_type": "stream",
     "text": [
      "Global Progress: 100%|██████████| 1/1 [00:04<00:00,  4.13s/iter]"
     ]
    },
    {
     "name": "stdout",
     "output_type": "stream",
     "text": [
      "Elapsed time: 4.1365439891815186 seconds\n",
      "final save of test_pseudo_gpy in:   results/gpbo_estimated_gpytorch_UCB_cebus1_test_pseudo_gpy.npz\n"
     ]
    },
    {
     "name": "stderr",
     "output_type": "stream",
     "text": [
      "\n"
     ]
    }
   ],
   "source": [
    "sim = SimGPBO(name = 'test_pseudo_gpy_', \n",
    "                    ds = copy.deepcopy(ds),\n",
    "                    AF = 'UCB',\n",
    "                    NB_REP = 1,\n",
    "                    NB_IT = 10,\n",
    "                    KAPPA = 6,\n",
    "                    NB_RND = 1\n",
    "                    )\n",
    "\n",
    "sim.select_emgs([0])\n",
    "\n",
    "sim.run_simulations(gp_origin='estimated_gpytorch', response_type='valid', \n",
    "                         hyperparams_storage=True, HP_estimation=False, manual_seed=True, outputscale=1., noise=0.01)"
   ]
  },
  {
   "cell_type": "code",
   "execution_count": 11,
   "metadata": {},
   "outputs": [
    {
     "name": "stderr",
     "output_type": "stream",
     "text": [
      "Global Progress: 100%|██████████| 1/1 [00:05<00:00,  5.64s/iter]"
     ]
    },
    {
     "name": "stdout",
     "output_type": "stream",
     "text": [
      "Elapsed time: 5.646507263183594 seconds\n",
      "final save of test_pseudo_hp in:   results/gpbo_estimated_hp_gpytorch_UCB_cebus1_test_pseudo_hp.npz\n"
     ]
    },
    {
     "name": "stderr",
     "output_type": "stream",
     "text": [
      "\n"
     ]
    }
   ],
   "source": [
    "sim = SimGPBO(name = 'test_pseudo_hp_', \n",
    "                    ds = copy.deepcopy(ds),\n",
    "                    AF = 'UCB',\n",
    "                    NB_REP = 1,\n",
    "                    NB_IT = 10,\n",
    "                    KAPPA = 6,\n",
    "                    NB_RND = 1\n",
    "                    )\n",
    "\n",
    "sim.select_emgs([0])\n",
    "\n",
    "sim.run_simulations(gp_origin='estimated_hp_gpytorch', response_type='valid', \n",
    "                         hyperparams_storage=True, HP_estimation=False, manual_seed=True, outputscale=1., noise=0.01)"
   ]
  },
  {
   "cell_type": "markdown",
   "metadata": {},
   "source": [
    "## SPEED"
   ]
  },
  {
   "cell_type": "code",
   "execution_count": 2,
   "metadata": {},
   "outputs": [
    {
     "ename": "NameError",
     "evalue": "name 'ds' is not defined",
     "output_type": "error",
     "traceback": [
      "\u001b[1;31m---------------------------------------------------------------------------\u001b[0m",
      "\u001b[1;31mNameError\u001b[0m                                 Traceback (most recent call last)",
      "Cell \u001b[1;32mIn[2], line 2\u001b[0m\n\u001b[0;32m      1\u001b[0m sim \u001b[38;5;241m=\u001b[39m SimGPBO(name \u001b[38;5;241m=\u001b[39m \u001b[38;5;124m'\u001b[39m\u001b[38;5;124mtest_og_\u001b[39m\u001b[38;5;124m'\u001b[39m, \n\u001b[1;32m----> 2\u001b[0m                     ds \u001b[38;5;241m=\u001b[39m copy\u001b[38;5;241m.\u001b[39mdeepcopy(\u001b[43mds\u001b[49m),\n\u001b[0;32m      3\u001b[0m                     AF \u001b[38;5;241m=\u001b[39m \u001b[38;5;124m'\u001b[39m\u001b[38;5;124mUCB\u001b[39m\u001b[38;5;124m'\u001b[39m,\n\u001b[0;32m      4\u001b[0m                     NB_REP \u001b[38;5;241m=\u001b[39m \u001b[38;5;241m1\u001b[39m,\n\u001b[0;32m      5\u001b[0m                     NB_IT \u001b[38;5;241m=\u001b[39m \u001b[38;5;241m100\u001b[39m,\n\u001b[0;32m      6\u001b[0m                     KAPPA \u001b[38;5;241m=\u001b[39m \u001b[38;5;241m6\u001b[39m,\n\u001b[0;32m      7\u001b[0m                     NB_RND \u001b[38;5;241m=\u001b[39m \u001b[38;5;241m1\u001b[39m\n\u001b[0;32m      8\u001b[0m                     )\n\u001b[0;32m     10\u001b[0m sim\u001b[38;5;241m.\u001b[39mselect_emgs([\u001b[38;5;241m0\u001b[39m])\n\u001b[0;32m     12\u001b[0m sim\u001b[38;5;241m.\u001b[39mrun_simulations(gp_origin\u001b[38;5;241m=\u001b[39m\u001b[38;5;124m'\u001b[39m\u001b[38;5;124mgpytorch\u001b[39m\u001b[38;5;124m'\u001b[39m, response_type\u001b[38;5;241m=\u001b[39m\u001b[38;5;124m'\u001b[39m\u001b[38;5;124mvalid\u001b[39m\u001b[38;5;124m'\u001b[39m, \n\u001b[0;32m     13\u001b[0m                          hyperparams_storage\u001b[38;5;241m=\u001b[39m\u001b[38;5;28;01mTrue\u001b[39;00m, HP_estimation\u001b[38;5;241m=\u001b[39m\u001b[38;5;28;01mFalse\u001b[39;00m, manual_seed\u001b[38;5;241m=\u001b[39m\u001b[38;5;28;01mTrue\u001b[39;00m, outputscale\u001b[38;5;241m=\u001b[39m\u001b[38;5;28;01mNone\u001b[39;00m, noise\u001b[38;5;241m=\u001b[39m\u001b[38;5;28;01mNone\u001b[39;00m, max_iters_training_gp\u001b[38;5;241m=\u001b[39m\u001b[38;5;241m100\u001b[39m)\n",
      "\u001b[1;31mNameError\u001b[0m: name 'ds' is not defined"
     ]
    }
   ],
   "source": [
    "sim = SimGPBO(name = 'test_og_', \n",
    "                    ds = copy.deepcopy(ds),\n",
    "                    AF = 'UCB',\n",
    "                    NB_REP = 1,\n",
    "                    NB_IT = 100,\n",
    "                    KAPPA = 6,\n",
    "                    NB_RND = 1\n",
    "                    )\n",
    "\n",
    "sim.select_emgs([0])\n",
    "\n",
    "sim.run_simulations(gp_origin='gpytorch', response_type='valid', \n",
    "                         hyperparams_storage=True, HP_estimation=False, manual_seed=True, outputscale=None, noise=None, max_iters_training_gp=100)"
   ]
  },
  {
   "cell_type": "code",
   "execution_count": 16,
   "metadata": {},
   "outputs": [
    {
     "name": "stderr",
     "output_type": "stream",
     "text": [
      "Global Progress: 100%|██████████| 1/1 [01:07<00:00, 67.24s/iter]"
     ]
    },
    {
     "name": "stdout",
     "output_type": "stream",
     "text": [
      "Elapsed time: 67.24414372444153 seconds\n",
      "final save of test_og_80 in:   results/gpbo_gpytorch_UCB_cebus1_test_og_80.npz\n"
     ]
    },
    {
     "name": "stderr",
     "output_type": "stream",
     "text": [
      "\n"
     ]
    }
   ],
   "source": [
    "sim = SimGPBO(name = 'test_og_80', \n",
    "                    ds = copy.deepcopy(ds),\n",
    "                    AF = 'UCB',\n",
    "                    NB_REP = 1,\n",
    "                    NB_IT = 100,\n",
    "                    KAPPA = 6,\n",
    "                    NB_RND = 1\n",
    "                    )\n",
    "\n",
    "sim.select_emgs([0])\n",
    "\n",
    "sim.run_simulations(gp_origin='gpytorch', response_type='valid', \n",
    "                         hyperparams_storage=True, HP_estimation=False, manual_seed=True, outputscale=None, noise=None, max_iters_training_gp=80)"
   ]
  },
  {
   "cell_type": "code",
   "execution_count": 17,
   "metadata": {},
   "outputs": [
    {
     "name": "stderr",
     "output_type": "stream",
     "text": [
      "Global Progress: 100%|██████████| 1/1 [00:43<00:00, 43.29s/iter]"
     ]
    },
    {
     "name": "stdout",
     "output_type": "stream",
     "text": [
      "Elapsed time: 43.29308748245239 seconds\n",
      "final save of test_og_60 in:   results/gpbo_gpytorch_UCB_cebus1_test_og_60.npz\n"
     ]
    },
    {
     "name": "stderr",
     "output_type": "stream",
     "text": [
      "\n"
     ]
    }
   ],
   "source": [
    "sim = SimGPBO(name = 'test_og_60', \n",
    "                    ds = copy.deepcopy(ds),\n",
    "                    AF = 'UCB',\n",
    "                    NB_REP = 1,\n",
    "                    NB_IT = 100,\n",
    "                    KAPPA = 6,\n",
    "                    NB_RND = 1\n",
    "                    )\n",
    "\n",
    "sim.select_emgs([0])\n",
    "\n",
    "sim.run_simulations(gp_origin='gpytorch', response_type='valid', \n",
    "                         hyperparams_storage=True, HP_estimation=False, manual_seed=True, outputscale=None, noise=None, max_iters_training_gp=60)"
   ]
  },
  {
   "cell_type": "code",
   "execution_count": 18,
   "metadata": {},
   "outputs": [
    {
     "name": "stderr",
     "output_type": "stream",
     "text": [
      "Global Progress: 100%|██████████| 1/1 [02:12<00:00, 132.26s/iter]"
     ]
    },
    {
     "name": "stdout",
     "output_type": "stream",
     "text": [
      "Elapsed time: 132.262521982193 seconds\n",
      "final save of test_og_150 in:   results/gpbo_gpytorch_UCB_cebus1_test_og_150.npz\n"
     ]
    },
    {
     "name": "stderr",
     "output_type": "stream",
     "text": [
      "\n"
     ]
    }
   ],
   "source": [
    "sim = SimGPBO(name = 'test_og_150', \n",
    "                    ds = copy.deepcopy(ds),\n",
    "                    AF = 'UCB',\n",
    "                    NB_REP = 1,\n",
    "                    NB_IT = 100,\n",
    "                    KAPPA = 6,\n",
    "                    NB_RND = 1\n",
    "                    )\n",
    "\n",
    "sim.select_emgs([0])\n",
    "\n",
    "sim.run_simulations(gp_origin='gpytorch', response_type='valid', \n",
    "                         hyperparams_storage=True, HP_estimation=False, manual_seed=True, outputscale=None, noise=None, max_iters_training_gp=150)"
   ]
  },
  {
   "cell_type": "code",
   "execution_count": 22,
   "metadata": {},
   "outputs": [
    {
     "name": "stderr",
     "output_type": "stream",
     "text": [
      "Global Progress: 100%|██████████| 1/1 [01:23<00:00, 83.08s/iter]"
     ]
    },
    {
     "name": "stdout",
     "output_type": "stream",
     "text": [
      "Elapsed time: 83.08397316932678 seconds\n",
      "final save of test_og_101 in:   results/gpbo_gpytorch_UCB_cebus1_test_og_101.npz\n"
     ]
    },
    {
     "name": "stderr",
     "output_type": "stream",
     "text": [
      "\n"
     ]
    }
   ],
   "source": [
    "sim = SimGPBO(name = 'test_og_101', \n",
    "                    ds = copy.deepcopy(ds),\n",
    "                    AF = 'UCB',\n",
    "                    NB_REP = 1,\n",
    "                    NB_IT = 100,\n",
    "                    KAPPA = 6,\n",
    "                    NB_RND = 1\n",
    "                    )\n",
    "\n",
    "sim.select_emgs([0])\n",
    "\n",
    "sim.run_simulations(gp_origin='gpytorch', response_type='valid', \n",
    "                         hyperparams_storage=True, HP_estimation=False, manual_seed=True, outputscale=None, noise=None, max_iters_training_gp=101)"
   ]
  },
  {
   "cell_type": "code",
   "execution_count": 23,
   "metadata": {},
   "outputs": [
    {
     "name": "stderr",
     "output_type": "stream",
     "text": [
      "Global Progress: 100%|██████████| 1/1 [01:00<00:00, 60.67s/iter]"
     ]
    },
    {
     "name": "stdout",
     "output_type": "stream",
     "text": [
      "Elapsed time: 60.6717643737793 seconds\n",
      "final save of test_og_96 in:   results/gpbo_gpytorch_UCB_cebus1_test_og_96.npz\n"
     ]
    },
    {
     "name": "stderr",
     "output_type": "stream",
     "text": [
      "\n"
     ]
    }
   ],
   "source": [
    "sim = SimGPBO(name = 'test_og_96', \n",
    "                    ds = copy.deepcopy(ds),\n",
    "                    AF = 'UCB',\n",
    "                    NB_REP = 1,\n",
    "                    NB_IT = 100,\n",
    "                    KAPPA = 6,\n",
    "                    NB_RND = 1\n",
    "                    )\n",
    "\n",
    "sim.select_emgs([0])\n",
    "\n",
    "sim.run_simulations(gp_origin='gpytorch', response_type='valid', \n",
    "                         hyperparams_storage=True, HP_estimation=False, manual_seed=True, outputscale=None, noise=None, max_iters_training_gp=96)"
   ]
  },
  {
   "cell_type": "code",
   "execution_count": 24,
   "metadata": {},
   "outputs": [
    {
     "name": "stderr",
     "output_type": "stream",
     "text": [
      "Global Progress: 100%|██████████| 1/1 [00:58<00:00, 58.97s/iter]"
     ]
    },
    {
     "name": "stdout",
     "output_type": "stream",
     "text": [
      "Elapsed time: 58.98044538497925 seconds\n",
      "final save of test_og_97 in:   results/gpbo_gpytorch_UCB_cebus1_test_og_97.npz\n"
     ]
    },
    {
     "name": "stderr",
     "output_type": "stream",
     "text": [
      "\n"
     ]
    }
   ],
   "source": [
    "sim = SimGPBO(name = 'test_og_97', \n",
    "                    ds = copy.deepcopy(ds),\n",
    "                    AF = 'UCB',\n",
    "                    NB_REP = 1,\n",
    "                    NB_IT = 100,\n",
    "                    KAPPA = 6,\n",
    "                    NB_RND = 1\n",
    "                    )\n",
    "\n",
    "sim.select_emgs([0])\n",
    "\n",
    "sim.run_simulations(gp_origin='gpytorch', response_type='valid', \n",
    "                         hyperparams_storage=True, HP_estimation=False, manual_seed=True, outputscale=None, noise=None, max_iters_training_gp=97)"
   ]
  },
  {
   "cell_type": "code",
   "execution_count": 25,
   "metadata": {},
   "outputs": [
    {
     "name": "stderr",
     "output_type": "stream",
     "text": [
      "Global Progress: 100%|██████████| 1/1 [01:02<00:00, 62.32s/iter]"
     ]
    },
    {
     "name": "stdout",
     "output_type": "stream",
     "text": [
      "Elapsed time: 62.326889991760254 seconds\n",
      "final save of test_og_98 in:   results/gpbo_gpytorch_UCB_cebus1_test_og_98.npz\n"
     ]
    },
    {
     "name": "stderr",
     "output_type": "stream",
     "text": [
      "\n"
     ]
    }
   ],
   "source": [
    "sim = SimGPBO(name = 'test_og_98', \n",
    "                    ds = copy.deepcopy(ds),\n",
    "                    AF = 'UCB',\n",
    "                    NB_REP = 1,\n",
    "                    NB_IT = 100,\n",
    "                    KAPPA = 6,\n",
    "                    NB_RND = 1\n",
    "                    )\n",
    "\n",
    "sim.select_emgs([0])\n",
    "\n",
    "sim.run_simulations(gp_origin='gpytorch', response_type='valid', \n",
    "                         hyperparams_storage=True, HP_estimation=False, manual_seed=True, outputscale=None, noise=None, max_iters_training_gp=98)"
   ]
  },
  {
   "cell_type": "code",
   "execution_count": 26,
   "metadata": {},
   "outputs": [
    {
     "name": "stderr",
     "output_type": "stream",
     "text": [
      "Global Progress: 100%|██████████| 1/1 [01:15<00:00, 75.86s/iter]"
     ]
    },
    {
     "name": "stdout",
     "output_type": "stream",
     "text": [
      "Elapsed time: 75.8689353466034 seconds\n",
      "final save of test_og_101 in:   results/gpbo_gpytorch_UCB_cebus1_test_og_101.npz\n"
     ]
    },
    {
     "name": "stderr",
     "output_type": "stream",
     "text": [
      "\n"
     ]
    }
   ],
   "source": [
    "sim = SimGPBO(name = 'test_og_101', \n",
    "                    ds = copy.deepcopy(ds),\n",
    "                    AF = 'UCB',\n",
    "                    NB_REP = 1,\n",
    "                    NB_IT = 100,\n",
    "                    KAPPA = 6,\n",
    "                    NB_RND = 1\n",
    "                    )\n",
    "\n",
    "sim.select_emgs([0])\n",
    "\n",
    "sim.run_simulations(gp_origin='gpytorch', response_type='valid', \n",
    "                         hyperparams_storage=True, HP_estimation=False, manual_seed=True, outputscale=None, noise=None, max_iters_training_gp=101)"
   ]
  },
  {
   "cell_type": "code",
   "execution_count": 27,
   "metadata": {},
   "outputs": [
    {
     "name": "stderr",
     "output_type": "stream",
     "text": [
      "Global Progress: 100%|██████████| 1/1 [01:02<00:00, 62.34s/iter]"
     ]
    },
    {
     "name": "stdout",
     "output_type": "stream",
     "text": [
      "Elapsed time: 62.34817051887512 seconds\n",
      "final save of test_og_102 in:   results/gpbo_gpytorch_UCB_cebus1_test_og_102.npz\n"
     ]
    },
    {
     "name": "stderr",
     "output_type": "stream",
     "text": [
      "\n"
     ]
    }
   ],
   "source": [
    "sim = SimGPBO(name = 'test_og_102', \n",
    "                    ds = copy.deepcopy(ds),\n",
    "                    AF = 'UCB',\n",
    "                    NB_REP = 1,\n",
    "                    NB_IT = 100,\n",
    "                    KAPPA = 6,\n",
    "                    NB_RND = 1\n",
    "                    )\n",
    "\n",
    "sim.select_emgs([0])\n",
    "\n",
    "sim.run_simulations(gp_origin='gpytorch', response_type='valid', \n",
    "                         hyperparams_storage=True, HP_estimation=False, manual_seed=True, outputscale=None, noise=None, max_iters_training_gp=102)"
   ]
  },
  {
   "cell_type": "code",
   "execution_count": 28,
   "metadata": {},
   "outputs": [
    {
     "name": "stderr",
     "output_type": "stream",
     "text": [
      "Global Progress: 100%|██████████| 1/1 [00:58<00:00, 58.08s/iter]"
     ]
    },
    {
     "name": "stdout",
     "output_type": "stream",
     "text": [
      "Elapsed time: 58.08643412590027 seconds\n",
      "final save of test_og_90 in:   results/gpbo_gpytorch_UCB_cebus1_test_og_90.npz\n"
     ]
    },
    {
     "name": "stderr",
     "output_type": "stream",
     "text": [
      "\n"
     ]
    }
   ],
   "source": [
    "sim = SimGPBO(name = 'test_og_90', \n",
    "                    ds = copy.deepcopy(ds),\n",
    "                    AF = 'UCB',\n",
    "                    NB_REP = 1,\n",
    "                    NB_IT = 100,\n",
    "                    KAPPA = 6,\n",
    "                    NB_RND = 1\n",
    "                    )\n",
    "\n",
    "sim.select_emgs([0])\n",
    "\n",
    "sim.run_simulations(gp_origin='gpytorch', response_type='valid', \n",
    "                         hyperparams_storage=True, HP_estimation=False, manual_seed=True, outputscale=None, noise=None, max_iters_training_gp=90)"
   ]
  },
  {
   "cell_type": "code",
   "execution_count": 29,
   "metadata": {},
   "outputs": [
    {
     "name": "stderr",
     "output_type": "stream",
     "text": [
      "Global Progress: 100%|██████████| 1/1 [01:12<00:00, 72.49s/iter]"
     ]
    },
    {
     "name": "stdout",
     "output_type": "stream",
     "text": [
      "Elapsed time: 72.49308705329895 seconds\n",
      "final save of test_og_94 in:   results/gpbo_gpytorch_UCB_cebus1_test_og_94.npz\n"
     ]
    },
    {
     "name": "stderr",
     "output_type": "stream",
     "text": [
      "\n"
     ]
    }
   ],
   "source": [
    "sim = SimGPBO(name = 'test_og_94', \n",
    "                    ds = copy.deepcopy(ds),\n",
    "                    AF = 'UCB',\n",
    "                    NB_REP = 1,\n",
    "                    NB_IT = 100,\n",
    "                    KAPPA = 6,\n",
    "                    NB_RND = 1\n",
    "                    )\n",
    "\n",
    "sim.select_emgs([0])\n",
    "\n",
    "sim.run_simulations(gp_origin='gpytorch', response_type='valid', \n",
    "                         hyperparams_storage=True, HP_estimation=False, manual_seed=True, outputscale=None, noise=None, max_iters_training_gp=94)"
   ]
  },
  {
   "cell_type": "code",
   "execution_count": 31,
   "metadata": {},
   "outputs": [
    {
     "name": "stderr",
     "output_type": "stream",
     "text": [
      "Global Progress: 100%|██████████| 1/1 [00:48<00:00, 48.97s/iter]"
     ]
    },
    {
     "name": "stdout",
     "output_type": "stream",
     "text": [
      "Elapsed time: 48.97740387916565 seconds\n",
      "final save of test_og_95_a in:   results/gpbo_gpytorch_UCB_cebus1_test_og_95_a.npz\n"
     ]
    },
    {
     "name": "stderr",
     "output_type": "stream",
     "text": [
      "\n"
     ]
    }
   ],
   "source": [
    "sim = SimGPBO(name = 'test_og_95_a', \n",
    "                    ds = copy.deepcopy(ds),\n",
    "                    AF = 'UCB',\n",
    "                    NB_REP = 1,\n",
    "                    NB_IT = 90,\n",
    "                    KAPPA = 6,\n",
    "                    NB_RND = 1\n",
    "                    )\n",
    "\n",
    "sim.select_emgs([0])\n",
    "\n",
    "sim.run_simulations(gp_origin='gpytorch', response_type='valid', \n",
    "                         hyperparams_storage=True, HP_estimation=False, manual_seed=True, outputscale=None, noise=None, max_iters_training_gp=95)"
   ]
  },
  {
   "cell_type": "code",
   "execution_count": 32,
   "metadata": {},
   "outputs": [
    {
     "name": "stderr",
     "output_type": "stream",
     "text": [
      "Global Progress: 100%|██████████| 1/1 [00:49<00:00, 49.64s/iter]"
     ]
    },
    {
     "name": "stdout",
     "output_type": "stream",
     "text": [
      "Elapsed time: 49.64269280433655 seconds\n",
      "final save of test_og_95_b in:   results/gpbo_gpytorch_UCB_cebus1_test_og_95_b.npz\n"
     ]
    },
    {
     "name": "stderr",
     "output_type": "stream",
     "text": [
      "\n"
     ]
    }
   ],
   "source": [
    "sim = SimGPBO(name = 'test_og_95_b', \n",
    "                    ds = copy.deepcopy(ds),\n",
    "                    AF = 'UCB',\n",
    "                    NB_REP = 1,\n",
    "                    NB_IT = 90,\n",
    "                    KAPPA = 6,\n",
    "                    NB_RND = 90\n",
    "                    )\n",
    "\n",
    "sim.select_emgs([0])\n",
    "\n",
    "sim.run_simulations(gp_origin='gpytorch', response_type='valid', \n",
    "                         hyperparams_storage=True, HP_estimation=False, manual_seed=True, outputscale=None, noise=None, max_iters_training_gp=95)"
   ]
  },
  {
   "cell_type": "code",
   "execution_count": 33,
   "metadata": {},
   "outputs": [
    {
     "name": "stderr",
     "output_type": "stream",
     "text": [
      "Global Progress: 100%|██████████| 1/1 [00:40<00:00, 40.23s/iter]"
     ]
    },
    {
     "name": "stdout",
     "output_type": "stream",
     "text": [
      "Elapsed time: 40.23541235923767 seconds\n",
      "final save of test_og_100_b in:   results/gpbo_gpytorch_UCB_cebus1_test_og_100_b.npz\n"
     ]
    },
    {
     "name": "stderr",
     "output_type": "stream",
     "text": [
      "\n"
     ]
    }
   ],
   "source": [
    "sim = SimGPBO(name = 'test_og_100_b', \n",
    "                    ds = copy.deepcopy(ds),\n",
    "                    AF = 'UCB',\n",
    "                    NB_REP = 1,\n",
    "                    NB_IT = 90,\n",
    "                    KAPPA = 6,\n",
    "                    NB_RND = 90\n",
    "                    )\n",
    "\n",
    "sim.select_emgs([0])\n",
    "\n",
    "sim.run_simulations(gp_origin='gpytorch', response_type='valid', \n",
    "                         hyperparams_storage=True, HP_estimation=False, manual_seed=True, outputscale=None, noise=None, max_iters_training_gp=100)"
   ]
  },
  {
   "cell_type": "code",
   "execution_count": 34,
   "metadata": {},
   "outputs": [
    {
     "name": "stderr",
     "output_type": "stream",
     "text": [
      "Global Progress: 100%|██████████| 1/1 [00:41<00:00, 41.24s/iter]"
     ]
    },
    {
     "name": "stdout",
     "output_type": "stream",
     "text": [
      "Elapsed time: 41.24665808677673 seconds\n",
      "final save of test_og_100_a in:   results/gpbo_gpytorch_UCB_cebus1_test_og_100_a.npz\n"
     ]
    },
    {
     "name": "stderr",
     "output_type": "stream",
     "text": [
      "\n"
     ]
    }
   ],
   "source": [
    "sim = SimGPBO(name = 'test_og_100_a', \n",
    "                    ds = copy.deepcopy(ds),\n",
    "                    AF = 'UCB',\n",
    "                    NB_REP = 1,\n",
    "                    NB_IT = 90,\n",
    "                    KAPPA = 6,\n",
    "                    NB_RND = 1\n",
    "                    )\n",
    "\n",
    "sim.select_emgs([0])\n",
    "\n",
    "sim.run_simulations(gp_origin='gpytorch', response_type='valid', \n",
    "                         hyperparams_storage=True, HP_estimation=False, manual_seed=True, outputscale=None, noise=None, max_iters_training_gp=100)"
   ]
  },
  {
   "cell_type": "code",
   "execution_count": null,
   "metadata": {},
   "outputs": [],
   "source": [
    "sim = SimGPBO(name = 'test_og_100_b', \n",
    "                    ds = copy.deepcopy(ds),\n",
    "                    AF = 'UCB',\n",
    "                    NB_REP = 1,\n",
    "                    NB_IT = 90,\n",
    "                    KAPPA = 6,\n",
    "                    NB_RND = 90\n",
    "                    )\n",
    "\n",
    "sim.select_emgs([0])\n",
    "\n",
    "sim.run_simulations(gp_origin='gpytorch', response_type='valid', \n",
    "                         hyperparams_storage=True, HP_estimation=False, manual_seed=True, outputscale=None, noise=None, max_iters_training_gp=100)"
   ]
  },
  {
   "cell_type": "code",
   "execution_count": 5,
   "metadata": {},
   "outputs": [
    {
     "name": "stderr",
     "output_type": "stream",
     "text": [
      "Global Progress: 100%|██████████| 1/1 [01:38<00:00, 98.12s/iter]"
     ]
    },
    {
     "name": "stdout",
     "output_type": "stream",
     "text": [
      "Elapsed time: 98.1291298866272 seconds\n",
      "final save of test_og_200_b in:   results/gpbo_gpytorch_UCB_cebus1_test_og_200_b.npz\n"
     ]
    },
    {
     "name": "stderr",
     "output_type": "stream",
     "text": [
      "\n"
     ]
    }
   ],
   "source": [
    "sim = SimGPBO(name = 'test_og_200_b', \n",
    "                    ds = copy.deepcopy(ds),\n",
    "                    AF = 'UCB',\n",
    "                    NB_REP = 1,\n",
    "                    NB_IT = 90,\n",
    "                    KAPPA = 6,\n",
    "                    NB_RND = 90\n",
    "                    )\n",
    "\n",
    "sim.select_emgs([0])\n",
    "\n",
    "sim.run_simulations(gp_origin='gpytorch', response_type='valid', \n",
    "                         hyperparams_storage=True, HP_estimation=False, manual_seed=True, outputscale=None, noise=None, max_iters_training_gp=200)"
   ]
  },
  {
   "cell_type": "code",
   "execution_count": 6,
   "metadata": {},
   "outputs": [
    {
     "name": "stderr",
     "output_type": "stream",
     "text": [
      "Global Progress:   0%|          | 0/1 [00:00<?, ?iter/s]"
     ]
    },
    {
     "name": "stderr",
     "output_type": "stream",
     "text": [
      "Global Progress: 100%|██████████| 1/1 [00:06<00:00,  6.30s/iter]"
     ]
    },
    {
     "name": "stdout",
     "output_type": "stream",
     "text": [
      "Elapsed time: 6.302880525588989 seconds\n",
      "final save of test_og_10_bb in:   results/gpbo_gpytorch_UCB_cebus1_test_og_10_bb.npz\n"
     ]
    },
    {
     "name": "stderr",
     "output_type": "stream",
     "text": [
      "\n"
     ]
    }
   ],
   "source": [
    "sim = SimGPBO(name = 'test_og_10_bb', \n",
    "                    ds = copy.deepcopy(ds),\n",
    "                    AF = 'UCB',\n",
    "                    NB_REP = 1,\n",
    "                    NB_IT = 90,\n",
    "                    KAPPA = 6,\n",
    "                    NB_RND = 90\n",
    "                    )\n",
    "\n",
    "sim.select_emgs([0])\n",
    "\n",
    "sim.run_simulations(gp_origin='gpytorch', response_type='valid', \n",
    "                         hyperparams_storage=True, HP_estimation=False, manual_seed=True, outputscale=None, noise=None, max_iters_training_gp=10)"
   ]
  },
  {
   "cell_type": "code",
   "execution_count": 37,
   "metadata": {},
   "outputs": [
    {
     "name": "stderr",
     "output_type": "stream",
     "text": [
      "Global Progress: 100%|██████████| 1/1 [00:26<00:00, 26.33s/iter]"
     ]
    },
    {
     "name": "stdout",
     "output_type": "stream",
     "text": [
      "Elapsed time: 26.33743405342102 seconds\n",
      "final save of test_og_60_b in:   results/gpbo_gpytorch_UCB_cebus1_test_og_60_b.npz\n"
     ]
    },
    {
     "name": "stderr",
     "output_type": "stream",
     "text": [
      "\n"
     ]
    }
   ],
   "source": [
    "sim = SimGPBO(name = 'test_og_60_b', \n",
    "                    ds = copy.deepcopy(ds),\n",
    "                    AF = 'UCB',\n",
    "                    NB_REP = 1,\n",
    "                    NB_IT = 90,\n",
    "                    KAPPA = 6,\n",
    "                    NB_RND = 90\n",
    "                    )\n",
    "\n",
    "sim.select_emgs([0])\n",
    "\n",
    "sim.run_simulations(gp_origin='gpytorch', response_type='valid', \n",
    "                         hyperparams_storage=True, HP_estimation=False, manual_seed=True, outputscale=None, noise=None, max_iters_training_gp=60)"
   ]
  }
 ],
 "metadata": {
  "kernelspec": {
   "display_name": "mtl",
   "language": "python",
   "name": "python3"
  },
  "language_info": {
   "codemirror_mode": {
    "name": "ipython",
    "version": 3
   },
   "file_extension": ".py",
   "mimetype": "text/x-python",
   "name": "python",
   "nbconvert_exporter": "python",
   "pygments_lexer": "ipython3",
   "version": "3.12.3"
  }
 },
 "nbformat": 4,
 "nbformat_minor": 2
}
